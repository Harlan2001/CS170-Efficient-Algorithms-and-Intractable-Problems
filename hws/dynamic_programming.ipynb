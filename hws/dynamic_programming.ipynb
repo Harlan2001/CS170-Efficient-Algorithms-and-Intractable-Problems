{
 "cells": [
  {
   "cell_type": "markdown",
   "metadata": {},
   "source": [
    "# DP Coding Assignment: Maximum Subarray Sum"
   ]
  },
  {
   "cell_type": "code",
   "execution_count": null,
   "metadata": {},
   "outputs": [],
   "source": [
    "import random\n",
    "import time\n",
    "import matplotlib.pyplot as plt\n",
    "from tqdm import tqdm"
   ]
  },
  {
   "cell_type": "markdown",
   "metadata": {},
   "source": [
    "## Part (b): Implementation"
   ]
  },
  {
   "cell_type": "markdown",
   "metadata": {},
   "source": [
    "In the following cell, implement your dynamic programming algorithm from part (a)."
   ]
  },
  {
   "cell_type": "code",
   "execution_count": null,
   "metadata": {},
   "outputs": [],
   "source": [
    "def max_subarray_sum(A):\n",
    "    # Initializing f. Recall f[i] contains the maximum sum of all subarrays ending with item i.\n",
    "    f = [None for _ in range(len(A))]\n",
    "    \n",
    "    # Base Case\n",
    "    f[0] = # YOUR SOLUTION HERE\n",
    "    \n",
    "    for i in range(1, len(f)):\n",
    "        f[i] = # YOUR SOLUTION HERE\n",
    "        \n",
    "    return max(f)"
   ]
  },
  {
   "cell_type": "markdown",
   "metadata": {},
   "source": [
    "Now, let's test your implementation. Run the two cells below and check that your algorithm's output matches the naive algorithm's output on some random inputs."
   ]
  },
  {
   "cell_type": "code",
   "execution_count": null,
   "metadata": {},
   "outputs": [],
   "source": [
    "def max_subarray_sum_naive(A):\n",
    "    maxSum = 0\n",
    "    n = len(A)\n",
    "    for i in range(n):\n",
    "        for j in range(i, n):\n",
    "            maxSum = max(maxSum, sum(A[i:j+1]))\n",
    "    return maxSum"
   ]
  },
  {
   "cell_type": "code",
   "execution_count": null,
   "metadata": {},
   "outputs": [],
   "source": [
    "for i in range(10):\n",
    "    A = [random.uniform(-1000, 1000) for i in range(500)]\n",
    "    print('Optimized Answer: {0}, Naive Answer: {1}'.format(max_subarray_sum(A), max_subarray_sum_naive(A)))\n",
    "    assert max_subarray_sum(A) == max_subarray_sum_naive(A)\n",
    "\n",
    "for i in tqdm(range(300)):\n",
    "    A = [random.uniform(-1000, 1000) for i in range(500)]\n",
    "    assert max_subarray_sum(A) == max_subarray_sum_naive(A)\n",
    "\n",
    "print('Test passed')"
   ]
  },
  {
   "cell_type": "markdown",
   "metadata": {},
   "source": [
    "**Compare your runtime from part (a) to the runtime of the naive algorithm.**"
   ]
  },
  {
   "cell_type": "markdown",
   "metadata": {},
   "source": [
    "*YOUR ANSWER HERE*"
   ]
  },
  {
   "cell_type": "markdown",
   "metadata": {},
   "source": [
    "Run the following cell to compare the runtimes of your DP algorithm and the naive algorithm. Check that the runtime and speedup graphs have the asymptotic behavior that you expected in your answer above (don't be worried if the graphs are a bit unsmooth as long as the overall trend is OK)."
   ]
  },
  {
   "cell_type": "code",
   "execution_count": null,
   "metadata": {},
   "outputs": [],
   "source": [
    "def record(array, value, name):\n",
    "    array.append(value)\n",
    "    print(\"%s%f\" % (name, value))\n",
    "\n",
    "dp_times = []\n",
    "naive_times = []\n",
    "speed_ups = []\n",
    "\n",
    "input_lengths = range(100, 2700, 200)\n",
    "\n",
    "for n in input_lengths:\n",
    "    print(\"\\narray length: %d\" % n)\n",
    "    A = [random.uniform(-1000, 1000) for i in range(n)]\n",
    "    time1 = time.time()\n",
    "    dp_res = max_subarray_sum(A)\n",
    "    time2 = time.time()\n",
    "    dp_time = time2 - time1\n",
    "    record(dp_times, dp_time, \"DP time:   \")\n",
    "    naive_res = max_subarray_sum_naive(A)\n",
    "    time3 = time.time()\n",
    "    naive_time = time3 - time2\n",
    "    record(naive_times, naive_time, \"naive time: \")\n",
    "    assert dp_res == naive_res\n",
    "    speed_up = naive_time / dp_time\n",
    "    record(speed_ups, speed_up, \"speed up: \")\n",
    "\n",
    "plt.plot(input_lengths, [t * 10000 for t in dp_times], label=\"DP x 10000\")\n",
    "plt.plot(input_lengths, naive_times, label=\"Naive\")\n",
    "plt.xlabel(\"Input Array Length\")\n",
    "plt.ylabel(\"Run Time (seconds)\")\n",
    "plt.legend(loc=\"upper left\")\n",
    "plt.title(\"Maximum Subarray Sum Runtime\")\n",
    "\n",
    "plt.figure()\n",
    "plt.plot(input_lengths, speed_ups)\n",
    "plt.xlabel(\"Input Size\")\n",
    "plt.ylabel(\"Speedup\")\n",
    "plt.title(\"DP Maximum Subarray Sum Speedup\")"
   ]
  }
 ],
 "metadata": {
  "kernelspec": {
   "display_name": "Python 3",
   "language": "python",
   "name": "python3"
  },
  "language_info": {
   "codemirror_mode": {
    "name": "ipython",
    "version": 3
   },
   "file_extension": ".py",
   "mimetype": "text/x-python",
   "name": "python",
   "nbconvert_exporter": "python",
   "pygments_lexer": "ipython3",
   "version": "3.8.5"
  }
 },
 "nbformat": 4,
 "nbformat_minor": 4
}
