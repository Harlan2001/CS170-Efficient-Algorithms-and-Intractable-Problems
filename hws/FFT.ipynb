{
 "cells": [
  {
   "cell_type": "code",
   "execution_count": 2,
   "metadata": {
    "ExecuteTime": {
     "end_time": "2021-05-09T04:05:00.422444Z",
     "start_time": "2021-05-09T04:05:00.395935Z"
    }
   },
   "outputs": [],
   "source": [
    "import math\n",
    "import cmath\n",
    "from numpy.random import randint\n",
    "from time import time\n",
    "import matplotlib.pyplot as plt"
   ]
  },
  {
   "cell_type": "code",
   "execution_count": 18,
   "metadata": {
    "ExecuteTime": {
     "end_time": "2021-05-09T07:45:04.703075Z",
     "start_time": "2021-05-09T07:45:04.685445Z"
    }
   },
   "outputs": [],
   "source": [
    "def FFT(coeffs, roots):\n",
    "    # need len(roots) to be a power of two\n",
    "    # don't worry about this expression if you haven't seen it before \n",
    "    assert (len(roots) & (len(roots)-1) == 0) and len(roots) != 0\n",
    "    if len(coeffs) == 0:\n",
    "        return [0] * len(roots)\n",
    "    if len(roots) == 1:\n",
    "        return coeffs\n",
    "    even = FFT(coeffs[::2], roots[::2])\n",
    "    odd = FFT(coeffs[1::2], roots[::2])\n",
    "    ret = [0]*len(roots)\n",
    "    for i in range(len(roots)//2):\n",
    "        ret[i] = even[i] + roots[i]*odd[i]\n",
    "        ret[i + len(roots)//2] = even[i] - roots[i]*odd[i]\n",
    "    return ret\n",
    "        "
   ]
  },
  {
   "cell_type": "code",
   "execution_count": 19,
   "metadata": {
    "ExecuteTime": {
     "end_time": "2021-05-09T07:45:04.945540Z",
     "start_time": "2021-05-09T07:45:04.936582Z"
    }
   },
   "outputs": [
    {
     "name": "stdout",
     "output_type": "stream",
     "text": [
      "expected: [6, (-2+2j), 2, (-2-2j)]\n",
      "actual: [6, (-2+2j), 2, (-2-2j)]\n"
     ]
    }
   ],
   "source": [
    "expected = [6, -2+2j, 2, -2-2j]\n",
    "actual = FFT([1, 2, 3], [1, 1j, -1, -1j])\n",
    "print(\"expected: {}\".format(expected))\n",
    "print(\"actual: {}\".format(actual))"
   ]
  },
  {
   "cell_type": "code",
   "execution_count": 20,
   "metadata": {
    "ExecuteTime": {
     "end_time": "2021-05-09T07:45:32.838429Z",
     "start_time": "2021-05-09T07:45:32.826867Z"
    }
   },
   "outputs": [
    {
     "name": "stdout",
     "output_type": "stream",
     "text": [
      "NOT expected: [6, 17, 34, 57]\n",
      "actual: [6, 2, 2, -6]\n"
     ]
    }
   ],
   "source": [
    "not_expected = [6, 17, 34, 57]\n",
    "actual = FFT([1, 2, 3], [1, 2, 3, 4])\n",
    "print(\"NOT expected: {}\".format(not_expected)) \n",
    "print(\"actual: {}\".format(actual))"
   ]
  },
  {
   "cell_type": "code",
   "execution_count": 21,
   "metadata": {
    "ExecuteTime": {
     "end_time": "2021-05-09T07:46:48.013454Z",
     "start_time": "2021-05-09T07:46:47.997874Z"
    }
   },
   "outputs": [],
   "source": [
    "def next_power_of_2(k): \n",
    "    ret = 1\n",
    "    while ret < k: \n",
    "        ret *= 2\n",
    "    return ret"
   ]
  },
  {
   "cell_type": "code",
   "execution_count": 22,
   "metadata": {
    "ExecuteTime": {
     "end_time": "2021-05-09T07:47:43.934026Z",
     "start_time": "2021-05-09T07:47:43.924656Z"
    }
   },
   "outputs": [],
   "source": [
    "def calc_nth_root(n):\n",
    "    theta_n = 2 * math.pi / n\n",
    "    a = math.cos(theta_n)\n",
    "    b = math.sin(theta_n) \n",
    "    return a + b * 1j"
   ]
  },
  {
   "cell_type": "code",
   "execution_count": 23,
   "metadata": {
    "ExecuteTime": {
     "end_time": "2021-05-09T07:48:02.980500Z",
     "start_time": "2021-05-09T07:48:02.970639Z"
    }
   },
   "outputs": [],
   "source": [
    "def calc_all_nth_roots(n):\n",
    "    root = calc_nth_root(n)\n",
    "    return [root**k for k in range(n)]"
   ]
  },
  {
   "cell_type": "code",
   "execution_count": 26,
   "metadata": {
    "ExecuteTime": {
     "end_time": "2021-05-09T07:49:08.261289Z",
     "start_time": "2021-05-09T07:49:08.074171Z"
    }
   },
   "outputs": [
    {
     "data": {
      "image/png": "[encoded data removed]",
      "text/plain": [
       "<Figure size 288x288 with 1 Axes>"
      ]
     },
     "metadata": {},
     "output_type": "display_data"
    }
   ],
   "source": [
    "N = 16 # feel free to change this value and observe what happens \n",
    "roots = calc_all_nth_roots(N)\n",
    "# Plot\n",
    "f,ax = plt.subplots()\n",
    "f.set_figwidth(4)\n",
    "f.set_figheight(4)\n",
    "plt.scatter([r.real for r in roots], [r.imag for r in roots]) \n",
    "ax.spines['left'].set_position('zero') \n",
    "ax.spines['right'].set_color('none')\n",
    "ax.yaxis.tick_left()\n",
    "ax.spines['bottom'].set_position('zero')\n",
    "ax.spines['top'].set_color('none')\n",
    "ax.set_xlim([-1.2,1.2])\n",
    "ax.set_ylim([-1.2,1.2])\n",
    "ax.set_xticks([-1, -0.5, 0.5, 1])\n",
    "ax.set_yticks([-1, -0.5, 0.5, 1])\n",
    "ax.xaxis.tick_bottom()\n",
    "plt.show()"
   ]
  },
  {
   "cell_type": "code",
   "execution_count": 38,
   "metadata": {
    "ExecuteTime": {
     "end_time": "2021-05-09T07:59:00.467073Z",
     "start_time": "2021-05-09T07:59:00.458855Z"
    }
   },
   "outputs": [],
   "source": [
    "def poly_multiply(coeffs1, coeffs2):\n",
    "    n = next_power_of_2(len(coeffs1) + len(coeffs2) - 1)\n",
    "    roots = calc_all_nth_roots(n)\n",
    "    fft1 = FFT(coeffs1, roots)\n",
    "    fft2 = FFT(coeffs2, roots)\n",
    "    unit_root = calc_nth_root(n)\n",
    "    inv_roots = [unit_root**(-i) for i in range(n)]\n",
    "    mul = [x*y for x, y in zip(fft1, fft2)]\n",
    "    return [x/n for x in FFT(mul, inv_roots)]"
   ]
  },
  {
   "cell_type": "code",
   "execution_count": 39,
   "metadata": {
    "ExecuteTime": {
     "end_time": "2021-05-09T07:59:00.916456Z",
     "start_time": "2021-05-09T07:59:00.911197Z"
    }
   },
   "outputs": [],
   "source": [
    "def round_complex_to_int(lst):\n",
    "    return [round(x.real) for x in lst]\n",
    "def zero_pop(lst): \n",
    "    while lst[-1] == 0:\n",
    "        lst.pop()"
   ]
  },
  {
   "cell_type": "code",
   "execution_count": 40,
   "metadata": {
    "ExecuteTime": {
     "end_time": "2021-05-09T07:59:01.423032Z",
     "start_time": "2021-05-09T07:59:01.414036Z"
    }
   },
   "outputs": [
    {
     "name": "stdout",
     "output_type": "stream",
     "text": [
      "expected: [4, 13, 22, 15]\n",
      "actual: [4, 13, 22, 15]\n"
     ]
    }
   ],
   "source": [
    "expected = [4, 13, 22, 15]\n",
    "actual = round_complex_to_int(poly_multiply([1, 2, 3], [4, 5])) \n",
    "print(\"expected: {}\".format(expected))\n",
    "print(\"actual: {}\".format(actual))"
   ]
  },
  {
   "cell_type": "code",
   "execution_count": 41,
   "metadata": {
    "ExecuteTime": {
     "end_time": "2021-05-09T07:59:02.572003Z",
     "start_time": "2021-05-09T07:59:02.563931Z"
    }
   },
   "outputs": [
    {
     "name": "stdout",
     "output_type": "stream",
     "text": [
      "expected: [4, 13, 28, 27, 18, 0, 0, 0]\n",
      "actual: [4, 13, 28, 27, 18, 0, 0, 0]\n"
     ]
    }
   ],
   "source": [
    "expected = [4, 13, 28, 27, 18, 0, 0, 0]\n",
    "actual = round_complex_to_int(poly_multiply([1, 2, 3], [4, 5, 6])) \n",
    "print(\"expected: {}\".format(expected))\n",
    "print(\"actual: {}\".format(actual))"
   ]
  },
  {
   "cell_type": "code",
   "execution_count": 43,
   "metadata": {
    "ExecuteTime": {
     "end_time": "2021-05-09T08:00:33.261903Z",
     "start_time": "2021-05-09T08:00:33.254352Z"
    }
   },
   "outputs": [],
   "source": [
    "def poly_multiply_naive(coeffs1, coeffs2): \n",
    "    n1, n2 = len(coeffs1), len(coeffs2)\n",
    "    n = n1 + n2 - 1\n",
    "    prod_coeffs = [0] * n\n",
    "    for deg in range(n):\n",
    "        for i in range(max(0, deg + 1 - n2), min(n1, deg + 1)):\n",
    "            prod_coeffs[deg] += coeffs1[i] * coeffs2[deg - i] \n",
    "    return prod_coeffs"
   ]
  },
  {
   "cell_type": "code",
   "execution_count": 47,
   "metadata": {
    "ExecuteTime": {
     "end_time": "2021-05-09T08:09:17.893172Z",
     "start_time": "2021-05-09T08:08:48.673468Z"
    }
   },
   "outputs": [
    {
     "name": "stdout",
     "output_type": "stream",
     "text": [
      "\n",
      "size: 1\n",
      "FFT time: 0.000044\n",
      "naive time: 0.000438\n",
      "speed up: 9.983696\n",
      "\n",
      "size: 10\n",
      "FFT time: 0.000650\n",
      "naive time: 0.000157\n",
      "speed up: 0.241379\n",
      "\n",
      "size: 100\n",
      "FFT time: 0.007538\n",
      "naive time: 0.003286\n",
      "speed up: 0.435919\n",
      "\n",
      "size: 1000\n",
      "FFT time: 0.054280\n",
      "naive time: 0.248230\n",
      "speed up: 4.573140\n",
      "\n",
      "size: 10000\n",
      "FFT time: 0.637324\n",
      "naive time: 27.684295\n",
      "speed up: 43.438331\n"
     ]
    },
    {
     "data": {
      "text/plain": [
       "Text(0.5, 1.0, 'FFT Polynomial Multiplication Speedup')"
      ]
     },
     "execution_count": 47,
     "metadata": {},
     "output_type": "execute_result"
    },
    {
     "data": {
      "image/png": "[encoded data removed]",
      "text/plain": [
       "<Figure size 432x288 with 1 Axes>"
      ]
     },
     "metadata": {},
     "output_type": "display_data"
    },
    {
     "data": {
      "image/png": "[encoded data removed]",
      "text/plain": [
       "<Figure size 432x288 with 1 Axes>"
      ]
     },
     "metadata": {},
     "output_type": "display_data"
    }
   ],
   "source": [
    "def rand_ints(lo, hi, length):\n",
    "    ints = list(randint(lo, hi, length)) \n",
    "    ints = [int(x) for x in ints]\n",
    "    return ints\n",
    "\n",
    "def record(array, value, name): \n",
    "    array.append(value) \n",
    "    print(\"%s%f\" % (name, value))\n",
    "    \n",
    "fft_times = []\n",
    "naive_times = []\n",
    "speed_ups = []\n",
    "for i in range(5): \n",
    "    n = 10 ** i\n",
    "    print(\"\\nsize: %d\" % n)\n",
    "    poly1 = rand_ints(1, 100, n)\n",
    "    poly2 = rand_ints(1, 100, n)\n",
    "    time1 = time()\n",
    "    fft_res = poly_multiply(poly1, poly2)\n",
    "    fft_res = round_complex_to_int(fft_res) \n",
    "    zero_pop(fft_res)\n",
    "    time2 = time()\n",
    "    fft_time = time2 - time1\n",
    "    record(fft_times, fft_time, \"FFT time: \") \n",
    "    naive_res = poly_multiply_naive(poly1, poly2) \n",
    "    time3 = time()\n",
    "    naive_time = time3 - time2\n",
    "    record(naive_times, naive_time, \"naive time: \") \n",
    "    assert fft_res == naive_res\n",
    "    speed_up = naive_time / fft_time \n",
    "    record(speed_ups, speed_up, \"speed up: \")\n",
    "    \n",
    "plt.plot(fft_times, label=\"FFT\")\n",
    "plt.plot(naive_times, label=\"Naive\")\n",
    "plt.xlabel(\"Log Input Size\")\n",
    "plt.ylabel(\"Run Time (seconds)\")\n",
    "plt.legend(loc=\"upper left\")\n",
    "plt.title(\"Polynomial Multiplication Runtime\")\n",
    "\n",
    "plt.figure()\n",
    "plt.plot(speed_ups)\n",
    "plt.xlabel(\"Log Input Size\")\n",
    "plt.ylabel(\"Speedup\")\n",
    "plt.title(\"FFT Polynomial Multiplication Speedup\")"
   ]
  },
  {
   "cell_type": "code",
   "execution_count": null,
   "metadata": {},
   "outputs": [],
   "source": []
  }
 ],
 "metadata": {
  "kernelspec": {
   "display_name": "Python 3",
   "language": "python",
   "name": "python3"
  },
  "language_info": {
   "codemirror_mode": {
    "name": "ipython",
    "version": 3
   },
   "file_extension": ".py",
   "mimetype": "text/x-python",
   "name": "python",
   "nbconvert_exporter": "python",
   "pygments_lexer": "ipython3",
   "version": "3.7.7"
  }
 },
 "nbformat": 4,
 "nbformat_minor": 4
}
